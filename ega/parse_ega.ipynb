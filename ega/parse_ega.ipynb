{
 "cells": [
  {
   "cell_type": "code",
   "execution_count": 1,
   "id": "filled-centre",
   "metadata": {},
   "outputs": [],
   "source": [
    "import json"
   ]
  },
  {
   "cell_type": "code",
   "execution_count": 3,
   "id": "horizontal-berry",
   "metadata": {},
   "outputs": [],
   "source": [
    "with open(\"/media/victoria/VICTORIA_EXTERNAL_DISK/BioHackathon2021/EGA_examples/samples_EGAD00001001084.json\") as f:\n",
    "  ega = json.load(f)"
   ]
  },
  {
   "cell_type": "code",
   "execution_count": 19,
   "id": "muslim-introduction",
   "metadata": {},
   "outputs": [
    {
     "data": {
      "text/plain": [
       "209"
      ]
     },
     "execution_count": 19,
     "metadata": {},
     "output_type": "execute_result"
    }
   ],
   "source": [
    "results = ega['response']['result']\n",
    "len(results)"
   ]
  },
  {
   "cell_type": "code",
   "execution_count": 23,
   "id": "functional-timer",
   "metadata": {},
   "outputs": [],
   "source": [
    "gender_d = dict()\n",
    "phenotype_d = dict()\n",
    "\n",
    "for i in range(0,len(results)):\n",
    "\n",
    "    g = results[i]['gender']\n",
    "    p = results[i]['phenotype']\n",
    "    if g in gender_d.keys():\n",
    "        gender_d[g] += 1\n",
    "    else:\n",
    "        gender_d[g] = 1\n",
    "    \n",
    "    if p in phenotype_d.keys(): \n",
    "        phenotype_d[p] += 1\n",
    "    else: \n",
    "        phenotype_d[p] = 1"
   ]
  },
  {
   "cell_type": "code",
   "execution_count": 26,
   "id": "fitted-taiwan",
   "metadata": {},
   "outputs": [],
   "source": [
    "attributes = {'gender' : gender_d, 'phenotype': phenotype_d}"
   ]
  },
  {
   "cell_type": "code",
   "execution_count": 27,
   "id": "distributed-spread",
   "metadata": {},
   "outputs": [
    {
     "data": {
      "text/plain": [
       "{'gender': {'female': 209}, 'phenotype': {'Normal': 209}}"
      ]
     },
     "execution_count": 27,
     "metadata": {},
     "output_type": "execute_result"
    }
   ],
   "source": [
    "attributes"
   ]
  }
 ],
 "metadata": {
  "kernelspec": {
   "display_name": "Python 3",
   "language": "python",
   "name": "python3"
  },
  "language_info": {
   "codemirror_mode": {
    "name": "ipython",
    "version": 3
   },
   "file_extension": ".py",
   "mimetype": "text/x-python",
   "name": "python",
   "nbconvert_exporter": "python",
   "pygments_lexer": "ipython3",
   "version": "3.7.11"
  }
 },
 "nbformat": 4,
 "nbformat_minor": 5
}
